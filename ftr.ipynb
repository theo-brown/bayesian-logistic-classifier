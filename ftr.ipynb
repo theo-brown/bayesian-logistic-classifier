{
 "cells": [
  {
   "cell_type": "code",
   "execution_count": 1,
   "id": "f17c723f",
   "metadata": {},
   "outputs": [],
   "source": [
    "import numpy as np\n",
    "from sklearn.model_selection import train_test_split\n",
    "from sklearn.utils import shuffle\n",
    "\n",
    "X_data = np.loadtxt('data/X.txt')\n",
    "y_data = np.loadtxt('data/y.txt')\n",
    "\n",
    "X_data, y_data = shuffle(X_data, y_data)\n",
    "\n",
    "X_train, X_test, y_train, y_test = train_test_split(X_data, y_data, train_size=800)"
   ]
  },
  {
   "cell_type": "code",
   "execution_count": 2,
   "id": "0788f3cd",
   "metadata": {},
   "outputs": [],
   "source": [
    "def evaluate_basis_functions(l, X, Z):\n",
    "    X2 = np.sum(X**2, 1)\n",
    "    Z2 = np.sum(Z**2, 1)\n",
    "    ones_Z = np.ones(Z.shape[ 0 ])\n",
    "    ones_X = np.ones(X.shape[ 0 ])\n",
    "    r2 = np.outer(X2, ones_Z) - 2 * np.dot(X, Z.T) + np.outer(ones_X, Z2)\n",
    "    return np.exp(-0.5 / l**2 * r2)\n",
    "\n",
    "width = 0.1\n",
    "\n",
    "X_train_expanded = evaluate_basis_functions(width, X_train, X_train)\n",
    "X_test_expanded = evaluate_basis_functions(width, X_test, X_train)"
   ]
  },
  {
   "cell_type": "code",
   "execution_count": 3,
   "id": "933f85ac",
   "metadata": {},
   "outputs": [
    {
     "data": {
      "image/png": "[encoded data removed]",
      "text/plain": [
       "<Figure size 432x288 with 1 Axes>"
      ]
     },
     "metadata": {
      "needs_background": "light"
     },
     "output_type": "display_data"
    }
   ],
   "source": [
    "import matplotlib.pyplot as plt\n",
    "\n",
    "\n",
    "def plot_classes(X, y, filename=None):\n",
    "    figure = plt.figure()\n",
    "    class0 = y == 0\n",
    "    class1 = y == 1\n",
    "    plt.plot(X[class0, 0], X[class0, 1], 'ro', markersize=1, label='Class 0')\n",
    "    plt.plot(X[class1, 0], X[class1, 1], 'bo', markersize=1, label='Class 1')\n",
    "    plt.xlabel(r'$x_1$')\n",
    "    plt.ylabel(r'$x_2$')\n",
    "    plt.legend(loc='upper left')\n",
    "    if filename:\n",
    "        plt.savefig(filename)\n",
    "    return figure\n",
    "\n",
    "plot_classes(X_data, y_data, \"plots/data.png\")\n",
    "plt.show()"
   ]
  },
  {
   "cell_type": "code",
   "execution_count": 4,
   "id": "233562ae",
   "metadata": {},
   "outputs": [],
   "source": [
    "def logistic(x):\n",
    "    return 1 / (1 + np.exp(-x))"
   ]
  },
  {
   "cell_type": "code",
   "execution_count": 5,
   "id": "48f7e052",
   "metadata": {},
   "outputs": [],
   "source": [
    "def prepend_ones(M):\n",
    "    return np.column_stack((np.ones(M.shape[0]), M))"
   ]
  },
  {
   "cell_type": "code",
   "execution_count": 6,
   "id": "28d5f359",
   "metadata": {},
   "outputs": [],
   "source": [
    "prior_variance = 1\n",
    "\n",
    "def log_prior(w):\n",
    "    return -1 / (2 * prior_variance) * (w.T @ w)"
   ]
  },
  {
   "cell_type": "code",
   "execution_count": 7,
   "id": "75997838",
   "metadata": {},
   "outputs": [],
   "source": [
    "def log_likelihood(w, X, y):\n",
    "    X1 = prepend_ones(X)\n",
    "    sigma = logistic(X1 @ w)\n",
    "    return np.sum(y * np.log(sigma)\n",
    "                  + (1 - y) * np.log(1 - sigma))\n",
    "\n",
    "def negative_log_likelihood(w, X, y):\n",
    "    return -log_likelihood(w, X, y)\n",
    "\n",
    "def log_likelihood_gradient(w, X, y):\n",
    "    X1 = prepend_ones(X)\n",
    "    return (y - logistic(X1 @ w)) @ X1\n",
    "\n",
    "def negative_log_likelihood_gradient(w, X, y):\n",
    "    return -log_likelihood_gradient(w, X, y)"
   ]
  },
  {
   "cell_type": "code",
   "execution_count": 8,
   "id": "10ab9516",
   "metadata": {},
   "outputs": [],
   "source": [
    "def mean_log_likelihood(w, X, y):\n",
    "    return log_likelihood(w, X, y) / y.len()"
   ]
  },
  {
   "cell_type": "code",
   "execution_count": 9,
   "id": "95354389",
   "metadata": {},
   "outputs": [],
   "source": [
    "def log_posterior(w, X, y):\n",
    "    return log_likelihood(w, X, y) + log_prior(w)\n",
    "\n",
    "def negative_log_posterior(w, X, y):\n",
    "    return -log_posterior(w, X, y)\n",
    "\n",
    "def posterior_gradient(w, X, y):\n",
    "    X1 = prepend_ones(X)\n",
    "    return (y - logistic(X1 @ w)) @ X1 - w / prior_variance\n",
    "\n",
    "def negative_posterior_gradient(w, X, y):\n",
    "    return -posterior_gradient(w, X, y)"
   ]
  },
  {
   "cell_type": "code",
   "execution_count": 10,
   "id": "8bcb5ed3",
   "metadata": {},
   "outputs": [],
   "source": [
    "from scipy.optimize import fmin_l_bfgs_b as minimise\n",
    "\n",
    "def find_w_map(X, y, w0=None):\n",
    "    if w0 is None:\n",
    "        w0 = np.ones(X.shape[1] + 1)\n",
    "    w_map, posterior_at_wmap, d = minimise(negative_log_posterior,\n",
    "                                           w0,\n",
    "                                           negative_posterior_gradient,\n",
    "                                           args=[X, y])\n",
    "    return w_map\n",
    "    \n",
    "def find_w_ml(X, y, w0=None):\n",
    "    if w0 is None:\n",
    "        w0 = np.ones(X.shape[1] + 1)\n",
    "    w_ml, likelihood_at_wml, d = minimise(negative_log_likelihood,\n",
    "                                          w0,\n",
    "                                          negative_log_likelihood_gradient,\n",
    "                                          args=[X, y])\n",
    "    return w_ml"
   ]
  },
  {
   "cell_type": "code",
   "execution_count": 11,
   "id": "21db1e8a",
   "metadata": {},
   "outputs": [],
   "source": [
    "w_map = find_w_map(X_train_expanded, y_train)"
   ]
  },
  {
   "cell_type": "code",
   "execution_count": 12,
   "id": "cb327042",
   "metadata": {},
   "outputs": [],
   "source": [
    "def plot_predictive_distribution(inputs, labels, weights, map_inputs = lambda x : x, filename=None):\n",
    "    plot_classes(inputs, labels)\n",
    "    x_min, x_max = inputs[ :, 0 ].min() - .5, inputs[ :, 0 ].max() + .5\n",
    "    y_min, y_max = inputs[ :, 1 ].min() - .5, inputs[ :, 1 ].max() + .5\n",
    "    xx, yy = np.meshgrid(np.linspace(x_min, x_max, 100), np.linspace(y_min, y_max, 100))\n",
    "    ax = plt.gca()\n",
    "    X_tilde = prepend_ones(map_inputs(np.concatenate((xx.ravel().reshape((-1, 1)), yy.ravel().reshape((-1, 1))), 1)))\n",
    "    Z = X_tilde @ weights\n",
    "    Z = Z.reshape(xx.shape)\n",
    "    cs2 = ax.contour(xx, yy, Z, cmap = 'RdBu', linewidths = 2)\n",
    "    plt.clabel(cs2, fmt = '%2.1f', colors = 'k', fontsize = 8)\n",
    "    if filename:\n",
    "        plt.savefig(filename)\n",
    "    plt.show()\n",
    "    \n",
    "# plot_predictive_distribution(X_data, y_data, w_map, filename=\"plots/predictive_distribution_linear.png\")"
   ]
  },
  {
   "cell_type": "code",
   "execution_count": 13,
   "id": "3cb25ff3",
   "metadata": {},
   "outputs": [],
   "source": [
    "def confusion_matrix(weights, test_data, test_labels):\n",
    "    class_probabilities = logistic(prepend_ones(test_data) @ weights)\n",
    "    predicted_class1 = class_probabilities <= 0.5\n",
    "    predicted_class2 = class_probabilities > 0.5\n",
    "    correctly_predicted_class1 = np.sum(np.logical_and(predicted_class1, test_labels == 0)) / np.sum(test_labels == 0)\n",
    "    incorrectly_predicted_class1 = np.sum(np.logical_and(predicted_class1, test_labels == 1)) / np.sum(test_labels == 1)\n",
    "    correctly_predicted_class2 = np.sum(np.logical_and(predicted_class2, test_labels == 1)) / np.sum(test_labels == 1)\n",
    "    incorrectly_predicted_class2 = np.sum(np.logical_and(predicted_class2, test_labels == 0)) / np.sum(test_labels == 0)\n",
    "\n",
    "    print(f\"[[{correctly_predicted_class1:.3f}, {incorrectly_predicted_class2:.3f}],\\n\"\n",
    "          f\" [{incorrectly_predicted_class1:.3f}, {correctly_predicted_class2:.3f}]]\")\n"
   ]
  },
  {
   "cell_type": "code",
   "execution_count": null,
   "id": "d056cf0c",
   "metadata": {},
   "outputs": [],
   "source": []
  },
  {
   "cell_type": "code",
   "execution_count": null,
   "id": "d664fd94",
   "metadata": {},
   "outputs": [],
   "source": []
  }
 ],
 "metadata": {
  "kernelspec": {
   "display_name": "Python 3 (ipykernel)",
   "language": "python",
   "name": "python3"
  },
  "language_info": {
   "codemirror_mode": {
    "name": "ipython",
    "version": 3
   },
   "file_extension": ".py",
   "mimetype": "text/x-python",
   "name": "python",
   "nbconvert_exporter": "python",
   "pygments_lexer": "ipython3",
   "version": "3.8.10"
  }
 },
 "nbformat": 4,
 "nbformat_minor": 5
}
